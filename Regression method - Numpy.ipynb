{
 "cells": [
  {
   "cell_type": "code",
   "execution_count": 1,
   "id": "b9f55e5c",
   "metadata": {},
   "outputs": [],
   "source": [
    "import numpy as np\n",
    "import pandas as pd\n",
    "import matplotlib.pyplot as plt\n",
    "import scipy.stats as stats"
   ]
  },
  {
   "cell_type": "code",
   "execution_count": 2,
   "id": "77deed2b",
   "metadata": {},
   "outputs": [],
   "source": [
    "np.random.seed(1)"
   ]
  },
  {
   "cell_type": "code",
   "execution_count": 3,
   "id": "a3d9c4ce",
   "metadata": {},
   "outputs": [],
   "source": [
    "nTrials = 9600\n",
    "nUnits = 35\n",
    "nConditions = 12\n",
    "nPara = 6\n",
    "trials_p_block = 50\n",
    "nAverage = 300\n",
    "nRandom = 100\n",
    "nBlocks = 32\n",
    "Amax = 0.5\n",
    "iSubject = 1\n",
    "bias_update = 0.02\n",
    "\n",
    "w_min = -1\n",
    "w_max = 1"
   ]
  },
  {
   "cell_type": "code",
   "execution_count": 4,
   "id": "82cffe1e",
   "metadata": {},
   "outputs": [],
   "source": [
    "activation = pd.read_csv('Cache.csv', header=None).values.reshape((nConditions, nRandom, nUnits))\n",
    "\n",
    "df = pd.read_csv('Data_withfeedback.csv')[iSubject * 9600 : (iSubject + 1) * 9600]\n",
    "condition = df['Condition'].values-1\n",
    "correct = df['Correct'].values\n",
    "contrast = df['Contrast'].values\n",
    "congruent = df['Congruent'].values\n",
    "\n",
    "sign = [-1,1,-1,1,-1,1,-1,1,-1,1,-1,1]\n",
    "sign_seq = [sign[condi] for condi in condition]\n",
    "\n",
    "li = np.intersect1d(np.where(contrast==0.10),np.where(congruent==0))\n",
    "mi = np.intersect1d(np.where(contrast==0.15),np.where(congruent==0))\n",
    "hi = np.intersect1d(np.where(contrast==0.23),np.where(congruent==0))\n",
    "lc = np.intersect1d(np.where(contrast==0.10),np.where(congruent==1))\n",
    "mc = np.intersect1d(np.where(contrast==0.15),np.where(congruent==1))\n",
    "hc = np.intersect1d(np.where(contrast==0.23),np.where(congruent==1))\n",
    "\n",
    "noise_d = np.random.normal(0, 1, size=(nTrials,nAverage))\n",
    "noise_r = np.random.normal(0, 1, size=(nTrials,nAverage,nUnits))\n",
    "random_seq = np.random.randint(0,100,(nTrials,nAverage))"
   ]
  },
  {
   "cell_type": "code",
   "execution_count": 5,
   "id": "fb13fb46",
   "metadata": {},
   "outputs": [],
   "source": [
    "acti_seq = np.zeros((nTrials, nAverage, nUnits))\n",
    "for i in range(nTrials):\n",
    "    acti_seq[i] = activation[condition[i]][random_seq[i]]"
   ]
  },
  {
   "cell_type": "code",
   "execution_count": 6,
   "id": "5f12593c",
   "metadata": {},
   "outputs": [],
   "source": [
    "def simulation(para):\n",
    "    # initial weight and bias\n",
    "    weight = np.tile(np.array([-45, -30, -15, 0, 15, 30, 45]) / 30,(nAverage, 5)) * para[5]\n",
    "    bias = np.tile(0, nAverage)\n",
    "    \n",
    "    # arr for recording iteration\n",
    "    decision_arr = np.zeros((nTrials, nAverage))\n",
    "    bias_arr = np.zeros((nTrials, nAverage))\n",
    "    weight_arr = np.zeros((nTrials, nAverage, nUnits))\n",
    "\n",
    "    # initial sequence\n",
    "    noise_d_seq =  noise_d * para[3]\n",
    "    noise_r_seq =  noise_r * para[4]\n",
    "    acti_withnoise = acti_seq + noise_r_seq\n",
    "    acti_normalized =((1-np.exp(-para[2] * np.where(acti_withnoise > 0,acti_withnoise,0))) / (1 + np.exp(-para[2] * np.where(acti_withnoise > 0,acti_withnoise,0))))*Amax\n",
    "    \n",
    "    # performing iteration\n",
    "    for i in range(nTrials):\n",
    "        # simulate and record decision\n",
    "        decision = np.sign(np.sum(acti_normalized[i] * weight,axis=1) - para[1] * bias + noise_d_seq[i])\n",
    "        decision_arr[i] = decision\n",
    "        \n",
    "        # simulate and record bias\n",
    "        bias = bias_update * decision + (1-bias_update) * bias\n",
    "        bias_arr[i] = bias\n",
    "        \n",
    "        # simulate and record weight\n",
    "        delta = acti_normalized[i] * para[0] * sign_seq[i] * Amax\n",
    "        weight  = weight + (w_max-weight) * np.where(delta >= 0,delta,0) + (weight-w_min) * np.where(delta < 0,delta,0)\n",
    "        weight_arr[i] = weight\n",
    "    # average decision to get probability to be right\n",
    "    prob = (((decision_arr.sum(axis = 1) / nAverage) * sign_seq) + 1) / 2\n",
    "    \n",
    "    # assign prob to 6 learning curves\n",
    "    block_prob = np.sum(prob[[li,mi,hi,lc,mc,hc]].reshape((6,32,50)), axis=2)/trials_p_block\n",
    "    return block_prob, bias_arr, weight_arr"
   ]
  },
  {
   "cell_type": "code",
   "execution_count": 7,
   "id": "cec93377",
   "metadata": {},
   "outputs": [],
   "source": [
    "lr_range = [0.0010,0.0015,0.0020,0.0025]\n",
    "bias_range = [1.5,2.0,2.5,3.0]\n",
    "gamma_range = [0.4,0.8,1.2,1.6]\n",
    "noise_d_range = [0.12,0.20,0.28,0.36]\n",
    "noise_r_range = [0.05,0.10,0.15,0.20]\n",
    "w_init_range = [0.15,0.20,0.25,0.30]\n",
    "\n",
    "search_grid = np.array(np.meshgrid(lr_range, bias_range, gamma_range, noise_d_range, noise_r_range, w_init_range,indexing='xy')).T.reshape(-1, nPara)"
   ]
  },
  {
   "cell_type": "code",
   "execution_count": 14,
   "id": "fac3a12b",
   "metadata": {},
   "outputs": [],
   "source": [
    "# generate weight change\n",
    "\n",
    "def draw_w(para, iSubject):\n",
    "    _, _, weight_arr = simulation(para)\n",
    "    w = weight_arr.sum(axis=1)/nAverage\n",
    "    #chagne of weight\n",
    "    fig,((ax1, ax_none_1, ax2), (ax3, ax4, ax5), (ax6, ax7, ax_none_2)) = plt.subplots(3, 3, figsize=(12, 10))\n",
    "    fig.delaxes(ax_none_1)\n",
    "    fig.delaxes(ax_none_2)\n",
    "\n",
    "    #weight change\n",
    "    axes=[ax1, ax2]\n",
    "    cycle = [w[:, np.arange(14, 21)], w[:, np.arange(28, 35)]]\n",
    "    freqency=[2.0,4.0]\n",
    "    ax1.set_position([0.15,0.65,0.3,0.3])\n",
    "    ax2.set_position([0.55,0.65,0.3,0.3])\n",
    "\n",
    "    for i in range(2):\n",
    "        for j in range(7):\n",
    "            axes[i].plot(cycle[i][:, j], color='black',  linewidth=0.5)\n",
    "            axes[i].set_title(f'{freqency[i]} cycles/degree')\n",
    "            axes[i].set_xticks([300,2700,5100,7500,9300])\n",
    "            axes[i].set_ylim(-0.45,0.45)\n",
    "\n",
    "\n",
    "    #contest switch\n",
    "    axes=[ax3, ax4, ax5, ax6, ax7]\n",
    "    marker=['o','^','None']\n",
    "    label=['2.0 cyc/deg','2.8 cyc/deg','4.0 cyc/deg']\n",
    "    weight_arr=[[],[],[],[],[]]\n",
    "    context=['L','R','L','R','L']\n",
    "    trial=np.array([299,2699,5099,7499,9299])\n",
    "    for i in range(5):\n",
    "        for j in range(3):\n",
    "        #frequency 2.0, 2.8, 4.0\n",
    "            weight_arr=[[],[],[],[],[]]\n",
    "            weight_arr[i]=w[trial[i]][(j+2)*7+np.arange(7)]\n",
    "            axes[i].plot(np.arange(-3,4)*15, weight_arr[i], marker=marker[j], markerfacecolor='none',markeredgewidth=1,markersize=5, color='black',label=label[j])\n",
    "            axes[i].set_xticks([-45,-30,-15,0,15,30,45])\n",
    "    ax7.legend(loc='lower right', bbox_to_anchor=(2,0.1), fontsize=15)\n",
    "    fig.text(0.25, 0.05, 'Orientation', ha='center', va='center', fontsize=15)\n",
    "    fig.text(0.5, 0.05, 'Orientation', ha='center', va='center', fontsize=15)\n",
    "    fig.text(0.78, 0.32, 'Orientation', ha='center', va='center', fontsize=15)\n",
    "    fig.text(0.06, 0.35, 'Weight', ha='center', va='center', rotation='vertical',fontsize=15)\n",
    "    fig.text(0.06, 0.78, 'Weight', ha='center', va='center', rotation='vertical',fontsize=15)\n",
    "    plt.savefig(f'results/weight/Subject_{iSubject}.png',bbox_inches='tight')\n",
    "    plt.show()\n",
    "\n"
   ]
  },
  {
   "cell_type": "code",
   "execution_count": null,
   "id": "ba922b80",
   "metadata": {},
   "outputs": [],
   "source": [
    "for iSubject in range(13):\n",
    "    para = np.exp(pd.read_csv('results/HBM Solution_NUTS.csv')['mean'][78 + iSubject * 6 : 78 + (iSubject + 1) * 6].values)\n",
    "    draw_w(para, iSubject = iSubject)\n",
    "    "
   ]
  },
  {
   "cell_type": "code",
   "execution_count": null,
   "id": "94cc9e3f",
   "metadata": {},
   "outputs": [],
   "source": [
    "para = np.exp(pd.read_csv('results/Population Solution_NUTS.csv')['mean'][78 + iSubject * 6 : 78 + (iSubject + 1) * 6].values)\n",
    "draw_w(para, iSubject = 0)"
   ]
  }
 ],
 "metadata": {
  "kernelspec": {
   "display_name": "Python [conda env:pymc_env]",
   "language": "python",
   "name": "conda-env-pymc_env-py"
  },
  "language_info": {
   "codemirror_mode": {
    "name": "ipython",
    "version": 3
   },
   "file_extension": ".py",
   "mimetype": "text/x-python",
   "name": "python",
   "nbconvert_exporter": "python",
   "pygments_lexer": "ipython3",
   "version": "3.8.17"
  }
 },
 "nbformat": 4,
 "nbformat_minor": 5
}
