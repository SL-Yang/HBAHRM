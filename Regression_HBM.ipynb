{
 "cells": [
  {
   "cell_type": "code",
   "execution_count": 8,
   "id": "cc535439",
   "metadata": {},
   "outputs": [],
   "source": [
    "import numpy as np\n",
    "import pandas as pd\n",
    "import matplotlib.pyplot as plt\n",
    "import scipy.stats as stats\n",
    "from itertools import combinations\n",
    "from math import prod, log\n",
    "from sklearn.linear_model import LinearRegression, Lasso\n",
    "import pymc as pm\n",
    "import pymc.math as math\n",
    "import pytensor.tensor as pt\n",
    "import arviz as az\n",
    "import graphviz\n",
    "np.set_printoptions(suppress=True)"
   ]
  },
  {
   "cell_type": "code",
   "execution_count": 9,
   "id": "d03466d1",
   "metadata": {},
   "outputs": [],
   "source": [
    "def to_block_prob(input_string):\n",
    "    remove_elements = ['\\n', '[', ']']\n",
    "    for element in remove_elements:\n",
    "        input_string =  input_string.replace(element, '')\n",
    "    input_string = input_string.split()\n",
    "    output_arr =  [float(string) for string in input_string]\n",
    "    return np.array(output_arr)\n",
    "\n",
    "def to_para_set(input_string):\n",
    "    if type(input_string) == str:\n",
    "        remove_elements = ['[', ']']\n",
    "        for element in remove_elements:\n",
    "            input_string =  input_string.replace(element, '')\n",
    "        input_string = input_string.split()\n",
    "        para_set =  np.array([float(string) for string in input_string])\n",
    "    else:\n",
    "        para_set = input_string\n",
    "    feature_arr = []\n",
    "    n_combine = [1,2,3,4,5,6]\n",
    "    index = [0,1,2,3,4,5]\n",
    "\n",
    "    for n in n_combine:\n",
    "        combine = list(combinations(index, n))\n",
    "        for current_combine in combine:\n",
    "            feature_arr.append(prod(para_set[list(current_combine)]))\n",
    "    return np.array(feature_arr)\n",
    "\n",
    "def compute_curve(X_train, coef_matrix):\n",
    "    ones_column = np.ones((X_train.shape[0], 1))\n",
    "    X_train = np.append(X_train, 1)\n",
    "    return (X_train @ coef_matrix.T).reshape((6,32))"
   ]
  },
  {
   "cell_type": "code",
   "execution_count": 10,
   "id": "e65c1e27",
   "metadata": {},
   "outputs": [],
   "source": [
    "search_grid = pd.read_csv('search grid 6_4.csv', header = None).values\n",
    "X_train, y_train = [], []\n",
    "for i in range(len(search_grid)):\n",
    "    X_train.append(to_para_set(search_grid[i][1]))\n",
    "    y_train.append(to_block_prob(search_grid[i][2]))\n",
    "X_train = np.array(X_train)\n",
    "y_train = np.array(y_train)"
   ]
  },
  {
   "cell_type": "code",
   "execution_count": 11,
   "id": "dcb9a710",
   "metadata": {},
   "outputs": [],
   "source": [
    "coef_matrix = np.array(())\n",
    "for block in range(y_train.shape[1]):\n",
    "    y_subtrain = y_train[:,block]\n",
    "    model = LinearRegression()\n",
    "    model.fit(X_train, y_subtrain)\n",
    "    w = np.append(model.coef_,model.intercept_)\n",
    "    coef_matrix = np.append(coef_matrix, w)\n",
    "coef_matrix = coef_matrix.reshape(y_train.shape[1],w.shape[0])\n",
    "coef_tensor_matrix = pt.as_tensor_variable(coef_matrix)"
   ]
  },
  {
   "cell_type": "code",
   "execution_count": 12,
   "id": "6911d701",
   "metadata": {},
   "outputs": [],
   "source": [
    "nSubject = 13\n",
    "nCondition = 6\n",
    "nTrial = 9600\n",
    "nBlock = 32\n",
    "nPara = 6\n",
    "nTest = 1\n",
    "trial_per_block = 50\n",
    "\n",
    "learning_curve = np.array([])\n",
    "df = pd.read_csv('Data_withfeedback.csv')\n",
    "for iSubject in range(nSubject):\n",
    "    sub_df = df[iSubject * nTrial : (iSubject + 1) * nTrial]\n",
    "    correct = sub_df['Correct'].values\n",
    "    contrast = sub_df['Contrast'].values\n",
    "    congruent = sub_df['Congruent'].values\n",
    "    li = np.intersect1d(np.where(contrast==0.10),np.where(congruent==0))\n",
    "    mi = np.intersect1d(np.where(contrast==0.15),np.where(congruent==0))\n",
    "    hi = np.intersect1d(np.where(contrast==0.23),np.where(congruent==0))\n",
    "    lc = np.intersect1d(np.where(contrast==0.10),np.where(congruent==1))\n",
    "    mc = np.intersect1d(np.where(contrast==0.15),np.where(congruent==1))\n",
    "    hc = np.intersect1d(np.where(contrast==0.23),np.where(congruent==1))\n",
    "    sub_learning_curve = correct[np.stack([li, mi, hi, lc, mc, hc])].reshape(nCondition,nBlock,trial_per_block).sum(axis=2)\n",
    "    learning_curve = np.append(learning_curve, sub_learning_curve)\n",
    "learning_curve = learning_curve.reshape(nSubject,nCondition,nBlock)\n",
    "\n",
    "combine_arr = []\n",
    "n_combine = [2,3,4,5,6]\n",
    "index = [0,1,2,3,4,5]\n",
    "for n in n_combine:\n",
    "    combine = list(combinations(index, n))\n",
    "    for current_combine in combine:\n",
    "            combine_arr.append(list(current_combine))"
   ]
  },
  {
   "cell_type": "code",
   "execution_count": 28,
   "id": "5f978770",
   "metadata": {},
   "outputs": [],
   "source": [
    "HBM = pm.Model()\n",
    "low = 1e-4\n",
    "lower=[log(low), log(low), log(low),log(low), log(low), log(low)]\n",
    "upper=[log(0.005), log(5), log(3), log(0.3), log(0.3), log(0.3)]\n",
    "\n",
    "'''\n",
    "lr_range = [0.0010,0.0015,0.0020,0.0025]\n",
    "bias_range = [1.5,2.0,2.5,3.0]\n",
    "gamma_range = [0.4,0.8,1.2,1.6]\n",
    "noise_d_range = [0.12,0.20,0.28,0.36]\n",
    "noise_r_range = [0.05,0.10,0.15,0.20]\n",
    "w_init_range = [0.15,0.20,0.25,0.30]\n",
    "'''\n",
    "with HBM:\n",
    "    '''\n",
    "    population=pm.Uniform('Population', lower=lower,upper=upper)\n",
    "\n",
    "    sd_subject = pm.Exponential.dist(1.0, size=nPara)\n",
    "    chol_subject, _ , _ = pm.LKJCholeskyCov('Chol_subject i', eta=2, n=nPara, sd_dist=sd_subject, compute_corr=True)\n",
    "    subject = pm.MvNormal('Subject i', mu=pt.tile(population,(nSubject,1)), chol=chol_subject)\n",
    "    \n",
    "    sd_test = pm.Exponential.dist(1.0, size=nPara)\n",
    "    chol_test, _ , _ = pm.LKJCholeskyCov('Chol_test ij', eta=2, n=nPara, sd_dist=sd_test, compute_corr=True)\n",
    "    test = pm.MvNormal('Test ij', mu=pt.tile(subject,(nTest,1)), chol=chol_test)   \n",
    "    '''\n",
    "    test = pm.Uniform('Test ij', lower=pt.tile(lower, (nSubject,1)), upper=pt.tile(upper, (nSubject,1)))\n",
    "    \n",
    "    exp_test = math.exp(test)\n",
    "    for i_combine in range(len(combine_arr)):\n",
    "        exp_test = math.concatenate([exp_test, math.prod(exp_test[:,combine_arr[i_combine]], axis=1).reshape((-1,1))], axis= 1)\n",
    "    para = math.concatenate([exp_test, pt.ones((nSubject,1))], axis =1) \n",
    "    curve = pt.clip((para @ coef_tensor_matrix.T).reshape((nSubject, nCondition, nBlock)),0.001,0.999)\n",
    "    n_block_correct = pm.Binomial('nCorrect ijk', p = curve, n = trial_per_block, observed = learning_curve)"
   ]
  },
  {
   "cell_type": "code",
   "execution_count": 29,
   "id": "b84cb783",
   "metadata": {},
   "outputs": [
    {
     "data": {
      "text/plain": [
       "'results\\\\model structure\\\\model strucutre_BIP.jpg'"
      ]
     },
     "execution_count": 29,
     "metadata": {},
     "output_type": "execute_result"
    }
   ],
   "source": [
    "pm.model_to_graphviz(HBM).render(filename='results/model structure/model strucutre_BIP', format='jpg')"
   ]
  },
  {
   "cell_type": "code",
   "execution_count": 7,
   "id": "f7ee183a",
   "metadata": {},
   "outputs": [
    {
     "name": "stderr",
     "output_type": "stream",
     "text": [
      "Multiprocess sampling (4 chains in 4 jobs)\n",
      "Metropolis: [test]\n"
     ]
    },
    {
     "data": {
      "text/html": [
       "\n",
       "<style>\n",
       "    /* Turns off some styling */\n",
       "    progress {\n",
       "        /* gets rid of default border in Firefox and Opera. */\n",
       "        border: none;\n",
       "        /* Needs to be in here for Safari polyfill so background images work as expected. */\n",
       "        background-size: auto;\n",
       "    }\n",
       "    progress:not([value]), progress:not([value])::-webkit-progress-bar {\n",
       "        background: repeating-linear-gradient(45deg, #7e7e7e, #7e7e7e 10px, #5c5c5c 10px, #5c5c5c 20px);\n",
       "    }\n",
       "    .progress-bar-interrupted, .progress-bar-interrupted::-webkit-progress-bar {\n",
       "        background: #F44336;\n",
       "    }\n",
       "</style>\n"
      ],
      "text/plain": [
       "<IPython.core.display.HTML object>"
      ]
     },
     "metadata": {},
     "output_type": "display_data"
    },
    {
     "data": {
      "text/html": [
       "\n",
       "    <div>\n",
       "      <progress value='3592' class='' max='100000' style='width:300px; height:20px; vertical-align: middle;'></progress>\n",
       "      3.59% [3592/100000 02:32&lt;1:08:16 Sampling 4 chains, 0 divergences]\n",
       "    </div>\n",
       "    "
      ],
      "text/plain": [
       "<IPython.core.display.HTML object>"
      ]
     },
     "metadata": {},
     "output_type": "display_data"
    },
    {
     "ename": "ValueError",
     "evalue": "Not enough samples to build a trace.",
     "output_type": "error",
     "traceback": [
      "\u001b[1;31m---------------------------------------------------------------------------\u001b[0m",
      "\u001b[1;31mValueError\u001b[0m                                Traceback (most recent call last)",
      "Cell \u001b[1;32mIn[7], line 7\u001b[0m\n\u001b[0;32m      1\u001b[0m \u001b[38;5;28;01mwith\u001b[39;00m HBM:\n\u001b[0;32m      2\u001b[0m     \u001b[38;5;66;03m#idata = pm.sample(draws = 3000, tune = 3000)\u001b[39;00m\n\u001b[0;32m      3\u001b[0m     \u001b[38;5;66;03m#approx=pm.fit(n=150000,method='advi')\u001b[39;00m\n\u001b[0;32m      4\u001b[0m     \u001b[38;5;66;03m#idata=approx.sample(10000)\u001b[39;00m\n\u001b[0;32m      6\u001b[0m     step \u001b[38;5;241m=\u001b[39m pm\u001b[38;5;241m.\u001b[39mMetropolis(thin\u001b[38;5;241m=\u001b[39m\u001b[38;5;241m10\u001b[39m)\n\u001b[1;32m----> 7\u001b[0m     idata \u001b[38;5;241m=\u001b[39m \u001b[43mpm\u001b[49m\u001b[38;5;241;43m.\u001b[39;49m\u001b[43msample\u001b[49m\u001b[43m(\u001b[49m\u001b[43mstep\u001b[49m\u001b[38;5;241;43m=\u001b[39;49m\u001b[43mstep\u001b[49m\u001b[43m,\u001b[49m\u001b[43m \u001b[49m\u001b[43mdraws\u001b[49m\u001b[38;5;241;43m=\u001b[39;49m\u001b[38;5;241;43m5000\u001b[39;49m\u001b[43m,\u001b[49m\u001b[43mtune\u001b[49m\u001b[38;5;241;43m=\u001b[39;49m\u001b[38;5;241;43m20000\u001b[39;49m\u001b[43m)\u001b[49m\n",
      "File \u001b[1;32mC:\\ProgramData\\anaconda3\\envs\\pymc_env\\lib\\site-packages\\pymc\\sampling\\mcmc.py:791\u001b[0m, in \u001b[0;36msample\u001b[1;34m(draws, tune, chains, cores, random_seed, progressbar, step, nuts_sampler, initvals, init, jitter_max_retries, n_init, trace, discard_tuned_samples, compute_convergence_checks, keep_warning_stat, return_inferencedata, idata_kwargs, nuts_sampler_kwargs, callback, mp_ctx, model, **kwargs)\u001b[0m\n\u001b[0;32m    787\u001b[0m t_sampling \u001b[38;5;241m=\u001b[39m time\u001b[38;5;241m.\u001b[39mtime() \u001b[38;5;241m-\u001b[39m t_start\n\u001b[0;32m    789\u001b[0m \u001b[38;5;66;03m# Packaging, validating and returning the result was extracted\u001b[39;00m\n\u001b[0;32m    790\u001b[0m \u001b[38;5;66;03m# into a function to make it easier to test and refactor.\u001b[39;00m\n\u001b[1;32m--> 791\u001b[0m \u001b[38;5;28;01mreturn\u001b[39;00m \u001b[43m_sample_return\u001b[49m\u001b[43m(\u001b[49m\n\u001b[0;32m    792\u001b[0m \u001b[43m    \u001b[49m\u001b[43mrun\u001b[49m\u001b[38;5;241;43m=\u001b[39;49m\u001b[43mrun\u001b[49m\u001b[43m,\u001b[49m\n\u001b[0;32m    793\u001b[0m \u001b[43m    \u001b[49m\u001b[43mtraces\u001b[49m\u001b[38;5;241;43m=\u001b[39;49m\u001b[43mtraces\u001b[49m\u001b[43m,\u001b[49m\n\u001b[0;32m    794\u001b[0m \u001b[43m    \u001b[49m\u001b[43mtune\u001b[49m\u001b[38;5;241;43m=\u001b[39;49m\u001b[43mtune\u001b[49m\u001b[43m,\u001b[49m\n\u001b[0;32m    795\u001b[0m \u001b[43m    \u001b[49m\u001b[43mt_sampling\u001b[49m\u001b[38;5;241;43m=\u001b[39;49m\u001b[43mt_sampling\u001b[49m\u001b[43m,\u001b[49m\n\u001b[0;32m    796\u001b[0m \u001b[43m    \u001b[49m\u001b[43mdiscard_tuned_samples\u001b[49m\u001b[38;5;241;43m=\u001b[39;49m\u001b[43mdiscard_tuned_samples\u001b[49m\u001b[43m,\u001b[49m\n\u001b[0;32m    797\u001b[0m \u001b[43m    \u001b[49m\u001b[43mcompute_convergence_checks\u001b[49m\u001b[38;5;241;43m=\u001b[39;49m\u001b[43mcompute_convergence_checks\u001b[49m\u001b[43m,\u001b[49m\n\u001b[0;32m    798\u001b[0m \u001b[43m    \u001b[49m\u001b[43mreturn_inferencedata\u001b[49m\u001b[38;5;241;43m=\u001b[39;49m\u001b[43mreturn_inferencedata\u001b[49m\u001b[43m,\u001b[49m\n\u001b[0;32m    799\u001b[0m \u001b[43m    \u001b[49m\u001b[43mkeep_warning_stat\u001b[49m\u001b[38;5;241;43m=\u001b[39;49m\u001b[43mkeep_warning_stat\u001b[49m\u001b[43m,\u001b[49m\n\u001b[0;32m    800\u001b[0m \u001b[43m    \u001b[49m\u001b[43midata_kwargs\u001b[49m\u001b[38;5;241;43m=\u001b[39;49m\u001b[43midata_kwargs\u001b[49m\u001b[43m \u001b[49m\u001b[38;5;129;43;01mor\u001b[39;49;00m\u001b[43m \u001b[49m\u001b[43m{\u001b[49m\u001b[43m}\u001b[49m\u001b[43m,\u001b[49m\n\u001b[0;32m    801\u001b[0m \u001b[43m    \u001b[49m\u001b[43mmodel\u001b[49m\u001b[38;5;241;43m=\u001b[39;49m\u001b[43mmodel\u001b[49m\u001b[43m,\u001b[49m\n\u001b[0;32m    802\u001b[0m \u001b[43m\u001b[49m\u001b[43m)\u001b[49m\n",
      "File \u001b[1;32mC:\\ProgramData\\anaconda3\\envs\\pymc_env\\lib\\site-packages\\pymc\\sampling\\mcmc.py:822\u001b[0m, in \u001b[0;36m_sample_return\u001b[1;34m(run, traces, tune, t_sampling, discard_tuned_samples, compute_convergence_checks, return_inferencedata, keep_warning_stat, idata_kwargs, model)\u001b[0m\n\u001b[0;32m    820\u001b[0m \u001b[38;5;66;03m# Pick and slice chains to keep the maximum number of samples\u001b[39;00m\n\u001b[0;32m    821\u001b[0m \u001b[38;5;28;01mif\u001b[39;00m discard_tuned_samples:\n\u001b[1;32m--> 822\u001b[0m     traces, length \u001b[38;5;241m=\u001b[39m \u001b[43m_choose_chains\u001b[49m\u001b[43m(\u001b[49m\u001b[43mtraces\u001b[49m\u001b[43m,\u001b[49m\u001b[43m \u001b[49m\u001b[43mtune\u001b[49m\u001b[43m)\u001b[49m\n\u001b[0;32m    823\u001b[0m \u001b[38;5;28;01melse\u001b[39;00m:\n\u001b[0;32m    824\u001b[0m     traces, length \u001b[38;5;241m=\u001b[39m _choose_chains(traces, \u001b[38;5;241m0\u001b[39m)\n",
      "File \u001b[1;32mC:\\ProgramData\\anaconda3\\envs\\pymc_env\\lib\\site-packages\\pymc\\backends\\base.py:601\u001b[0m, in \u001b[0;36m_choose_chains\u001b[1;34m(traces, tune)\u001b[0m\n\u001b[0;32m    599\u001b[0m lengths \u001b[38;5;241m=\u001b[39m [\u001b[38;5;28mmax\u001b[39m(\u001b[38;5;241m0\u001b[39m, \u001b[38;5;28mlen\u001b[39m(trace) \u001b[38;5;241m-\u001b[39m tune) \u001b[38;5;28;01mfor\u001b[39;00m trace \u001b[38;5;129;01min\u001b[39;00m traces]\n\u001b[0;32m    600\u001b[0m \u001b[38;5;28;01mif\u001b[39;00m \u001b[38;5;129;01mnot\u001b[39;00m \u001b[38;5;28msum\u001b[39m(lengths):\n\u001b[1;32m--> 601\u001b[0m     \u001b[38;5;28;01mraise\u001b[39;00m \u001b[38;5;167;01mValueError\u001b[39;00m(\u001b[38;5;124m\"\u001b[39m\u001b[38;5;124mNot enough samples to build a trace.\u001b[39m\u001b[38;5;124m\"\u001b[39m)\n\u001b[0;32m    603\u001b[0m idxs \u001b[38;5;241m=\u001b[39m np\u001b[38;5;241m.\u001b[39margsort(lengths)\n\u001b[0;32m    604\u001b[0m l_sort \u001b[38;5;241m=\u001b[39m np\u001b[38;5;241m.\u001b[39marray(lengths)[idxs]\n",
      "\u001b[1;31mValueError\u001b[0m: Not enough samples to build a trace."
     ]
    }
   ],
   "source": [
    "with HBM:\n",
    "    #idata = pm.sample(draws = 3000, tune = 3000)\n",
    "    #approx=pm.fit(n=150000,method='advi')\n",
    "    #idata=approx.sample(10000)\n",
    "    \n",
    "    step = pm.Metropolis(thin=10)\n",
    "    idata = pm.sample(step=step, draws=5000,tune=20000)"
   ]
  },
  {
   "cell_type": "code",
   "execution_count": null,
   "id": "ac2bf9db",
   "metadata": {},
   "outputs": [],
   "source": [
    "summary = az.summary(idata)\n",
    "summary.to_csv('BIP Solution_MH.csv')"
   ]
  },
  {
   "cell_type": "code",
   "execution_count": null,
   "id": "f7f0594d",
   "metadata": {},
   "outputs": [],
   "source": [
    "mean = np.round(np.exp(pd.read_csv('HBM Solution_MH.csv')[ : nSubject * nPara]['mean'].values), 4).reshape(nSubject, nPara)\n",
    "print(mean)\n"
   ]
  },
  {
   "cell_type": "code",
   "execution_count": null,
   "id": "8f59f208",
   "metadata": {},
   "outputs": [],
   "source": [
    "para = np.exp(idata.posterior['test'])\n",
    "for i in range(para.shape[-1]):\n",
    "    az.plot_trace(para[..., i])"
   ]
  },
  {
   "cell_type": "code",
   "execution_count": null,
   "id": "10bbcccc",
   "metadata": {},
   "outputs": [],
   "source": [
    "iSubject = 2\n",
    "block_prob_true = learning_curve[iSubject]/trial_per_block\n",
    "block_prob_simu = compute_curve(to_para_set(np.exp(np.array([-6.694, 0.061, 0.046, -1.837, -4.699, -4.183]))), coef_matrix)"
   ]
  },
  {
   "cell_type": "code",
   "execution_count": null,
   "id": "779f1f91",
   "metadata": {},
   "outputs": [],
   "source": [
    "title={0:'Incongruent stimuli', 1: 'Congruent stimuli'}\n",
    "fig, (ax1, ax2) = plt.subplots(2, 1, figsize=(10, 10))\n",
    "axes=[ax1,ax2]\n",
    "for i in [0,1]:\n",
    "    low_model, low_true = block_prob_simu[i*3],  block_prob_true[i*3]\n",
    "    middle_model, middle_true = block_prob_simu[i*3+1],  block_prob_true[i*3+1]\n",
    "    high_model, high_true = block_prob_simu[i*3+2],  block_prob_true[i*3+2]\n",
    "    \n",
    "    z_low_model,z_middle_model,z_high_model= stats.norm.ppf(low_model), stats.norm.ppf(middle_model), stats.norm.ppf(high_model)\n",
    "    start=[1,9,17,25,31]\n",
    "    for j in range(4):\n",
    "        low_model_fit, normal_model_fit, high_model_fit=z_low_model[start[j]:start[j+1]],z_middle_model[start[j]:start[j+1]],z_high_model[start[j]:start[j+1]]\n",
    "        axes[i].plot(np.arange(start[j],start[j+1]), low_model_fit, color='black', marker='s', markersize=5)\n",
    "        axes[i].plot(np.arange(start[j],start[j+1]), normal_model_fit, color='black', marker='o', markersize=5)\n",
    "        axes[i].plot(np.arange(start[j],start[j+1]), high_model_fit, color='black', marker='^', markersize=5)\n",
    "       \n",
    "    z_low_true,z_middle_true,z_high_true= stats.norm.ppf(low_true), stats.norm.ppf(middle_true), stats.norm.ppf(high_true)\n",
    "    \n",
    "    axes[i].plot(z_low_true, marker='s',color='black', linestyle='',markerfacecolor='none',markeredgewidth=1,markersize=5, label='Contrast 0.10')\n",
    "    axes[i].plot(z_middle_true, marker='o',color='black', linestyle='',markerfacecolor='none',markeredgewidth=1,markersize=5, label='Contrast 0.15')\n",
    "    axes[i].plot(z_high_true, marker='^', color='black',linestyle='',markerfacecolor='none',markeredgewidth=1,markersize=5, label='Contrast 0.23')\n",
    "    \n",
    "    axes[i].set_ylabel('z-probability correct')\n",
    "    axes[i].set_xlabel('Block number (300 trials/block, 4 blocks/day)')\n",
    "    axes[i].set_title(title.get(i))\n",
    "    axes[i].set_ylim(-1,3)\n",
    "    \n",
    "legend_handles = [plt.Line2D([],[],marker='s',color='black', linestyle='',markerfacecolor='none',markeredgewidth=1,markersize=5, label='Contrast 0.10'),\n",
    "                  plt.Line2D([],[],marker='o',color='black', linestyle='',markerfacecolor='none',markeredgewidth=1,markersize=5, label='Contrast 0.15'),\n",
    "                  plt.Line2D([],[],marker='^',color='black', linestyle='',markerfacecolor='none',markeredgewidth=1,markersize=5, label='Contrast 0.23'),\n",
    "                  plt.Line2D([], [], color='black', marker='o',markersize=3, linestyle='None', label='Model fits'),]\n",
    "plt.legend(handles=legend_handles, loc='lower right',bbox_to_anchor=(1.2, 0))\n",
    "# plt.savefig(f'results/congruent and incongruent/Subject_{iSubject}',bbox_inches='tight')\n",
    "plt.show()\n"
   ]
  },
  {
   "cell_type": "code",
   "execution_count": null,
   "id": "2f83f321",
   "metadata": {},
   "outputs": [],
   "source": []
  }
 ],
 "metadata": {
  "kernelspec": {
   "display_name": "Python [conda env:pymc_env] *",
   "language": "python",
   "name": "conda-env-pymc_env-py"
  },
  "language_info": {
   "codemirror_mode": {
    "name": "ipython",
    "version": 3
   },
   "file_extension": ".py",
   "mimetype": "text/x-python",
   "name": "python",
   "nbconvert_exporter": "python",
   "pygments_lexer": "ipython3",
   "version": "3.8.17"
  }
 },
 "nbformat": 4,
 "nbformat_minor": 5
}
