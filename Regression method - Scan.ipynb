{
 "cells": [
  {
   "cell_type": "code",
   "execution_count": 1,
   "id": "b9f55e5c",
   "metadata": {},
   "outputs": [
    {
     "name": "stderr",
     "output_type": "stream",
     "text": [
      "WARNING (pytensor.tensor.blas): Using NumPy C-API based implementation for BLAS functions.\n"
     ]
    }
   ],
   "source": [
    "import pymc as pm\n",
    "import numpy as np\n",
    "import pytensor\n",
    "import pytensor.tensor as pt\n",
    "import pandas as pd\n",
    "import arviz as az\n",
    "import pymc.math as math\n",
    "import matplotlib.pyplot as plt\n",
    "import scipy.stats as stats"
   ]
  },
  {
   "cell_type": "code",
   "execution_count": 15,
   "id": "a3d9c4ce",
   "metadata": {},
   "outputs": [],
   "source": [
    "nTrials = 9600\n",
    "nUnits = 35\n",
    "nConditions = 12\n",
    "nPara = 6\n",
    "trials_p_block = 50\n",
    "nAverage = 1000\n",
    "nRandom = 100\n",
    "nBlocks = 32\n",
    "a_max = 0.5\n",
    "nConditions = 6\n",
    "\n",
    "bias=np.tile(0,nAverage)\n",
    "bias_update=0.02\n",
    "\n",
    "w_min=-1\n",
    "w_max=1\n",
    "weight=np.tile(np.array([-45,-30,-15,0,15,30,45])/30,(nAverage,5))"
   ]
  },
  {
   "cell_type": "code",
   "execution_count": 3,
   "id": "82cffe1e",
   "metadata": {},
   "outputs": [],
   "source": [
    "activation = pd.read_csv('Cache.csv', header=None).values.reshape((nConditions, nRandom, nUnits))\n",
    "df = pd.read_csv('Data_withfeedback.csv')[:9600]\n",
    "condition = df['Condition'].values-1\n",
    "correct = df['Correct'].values\n",
    "contrast = df['Contrast'].values\n",
    "congruent = df['Congruent'].values\n",
    "\n",
    "sign_arr = [-1,1,-1,1,-1,1,-1,1,-1,1,-1,1]\n",
    "\n",
    "li = np.intersect1d(np.where(contrast==0.10),np.where(congruent==0))\n",
    "mi = np.intersect1d(np.where(contrast==0.15),np.where(congruent==0))\n",
    "hi = np.intersect1d(np.where(contrast==0.23),np.where(congruent==0))\n",
    "lc = np.intersect1d(np.where(contrast==0.10),np.where(congruent==1))\n",
    "mc = np.intersect1d(np.where(contrast==0.15),np.where(congruent==1))\n",
    "hc = np.intersect1d(np.where(contrast==0.23),np.where(congruent==1))\n",
    "\n",
    "noise_d =  np.random.normal(0, 1, size=(nTrials,nAverage))\n",
    "noise_r =  np.random.normal(0, 1, size=(nTrials,nAverage,nUnits))\n",
    "random_seq = np.random.randint(0,100,(nTrials,nAverage))\n",
    "\n",
    "sign = np.zeros(nTrials)\n",
    "for i in range(nTrials):\n",
    "    sign[i] = sign_arr[condition[i]]\n",
    "\n",
    "acti = np.zeros((nTrials, nAverage, nUnits))\n",
    "for i in range(nTrials):\n",
    "    acti[i] = activation[condition[i]][random_seq[i]]\n"
   ]
  },
  {
   "cell_type": "code",
   "execution_count": 4,
   "id": "401847ef",
   "metadata": {},
   "outputs": [],
   "source": [
    "Acti = pt.tensor3('Acti')\n",
    "Noise_d = pt.matrix('Noise_d')\n",
    "Noise_r = pt.tensor3('Noise_r')\n",
    "Sign = pt.vector('Sign')\n",
    "Bias = pt.vector('Bias')\n",
    "Weight = pt.matrix('Weight')\n",
    "Lr = pt.scalar('Lr')\n",
    "Bias_strength = pt.scalar('Bias_strength')\n",
    "Gamma = pt.scalar('Gamma')\n",
    "A_max = pt.scalar('A_max')\n",
    "W_max = pt.scalar('W_max')\n",
    "W_min = pt.scalar('W_min')\n",
    "Bias_update = pt.scalar('Bias_update')\n",
    "\n",
    "'''\n",
    "def update_decisions(Acti, Noise_d, Noise_r, Sign, Bias, Weight, Lr, Bias_strength, Gamma, A_max, W_max, W_min, Bias_update):\n",
    "    # calculate sign of decision\n",
    "    Acti_noise = Acti + Noise_r\n",
    "    Acti_normalized =((1-pt.exp(-Gamma*pt.maximum(Acti_noise,0)))/(1+pt.exp(-Gamma*pt.maximum(Acti_noise,0))))*A_max\n",
    "    Deci = pt.sign(pt.sum(Acti_normalized* Weight, axis=1) - Bias_strength * Bias + Noise_d)\n",
    "    # update bias and weight\n",
    "    Bias= Bias_update* Deci + (1 - Bias_update) * Bias\n",
    "    Delta= Acti_normalized * Lr * Sign * A_max\n",
    "    Weight = Weight + (W_max - Weight) * pt.maximum(Delta,0) + (Weight - W_min) * pt.minimum(Delta, 0)\n",
    "    return Bias, Weight, Deci \n",
    "\n",
    "results, updates = pytensor.scan(fn=update_decisions,\n",
    "                            sequences = [Acti, Noise_d, Noise_r, Sign],\n",
    "                            outputs_info=[Bias, Weight, None],\n",
    "                            non_sequences=[Lr, Bias_strength, Gamma, A_max, W_max, W_min, Bias_update])\n",
    "final_result = results[2]\n",
    "decision = pytensor.function(inputs=[Acti, Noise_d, Noise_r, Sign, Bias, Weight, Lr, Bias_strength, Gamma, A_max, W_max, W_min, Bias_update], outputs= final_result, updates= updates)\n",
    "'''\n",
    "\n",
    "\n",
    "def update_decisions(Acti, Noise_d, Noise_r, Sign, Bias, Weight, Lr, Bias_strength, Gamma, A_max, W_max, W_min, Bias_update):\n",
    "    # calculate sign of decision\n",
    "    Acti_noise = Acti + Noise_r\n",
    "    Acti_normalized =((1-pt.exp(-Gamma*pt.maximum(Acti_noise,0)))/(1+pt.exp(-Gamma*pt.maximum(Acti_noise,0))))*A_max\n",
    "    Deci = pt.sign(pt.sum(Acti_normalized* Weight, axis=1) - Bias_strength * Bias + Noise_d)\n",
    "    # update bias and weight\n",
    "    Bias= Bias_update* Deci + (1 - Bias_update) * Bias\n",
    "    Delta= Acti_normalized * Lr * Sign * A_max\n",
    "    Weight = Weight + (W_max - Weight) * pt.maximum(Delta,0) + (Weight - W_min) * pt.minimum(Delta, 0)\n",
    "    return Bias, Weight, Deci \n",
    "\n",
    "results, updates = pytensor.scan(fn=update_decisions,\n",
    "                            sequences = [Acti, Noise_d, Noise_r, Sign],\n",
    "                            outputs_info=[Bias, Weight, None],\n",
    "                            non_sequences=[Lr, Bias_strength, Gamma, A_max, W_max, W_min, Bias_update])\n",
    "final_result = results[2]\n",
    "decision = pytensor.function(inputs=[Acti, Noise_d, Noise_r, Sign, Bias, Weight, Lr, Bias_strength, Gamma, A_max, W_max, W_min, Bias_update], outputs= final_result, updates= updates)"
   ]
  },
  {
   "cell_type": "code",
   "execution_count": 5,
   "id": "cec93377",
   "metadata": {},
   "outputs": [],
   "source": [
    "lr_range = [0.0005,0.0010,0.0015,0.0020,0.0025,0.0035]\n",
    "bias_range = [1.0,1.5,2.0,2.5,3.0,3.5]\n",
    "gamma_range = [0.3,0.6,0.9,1.2,1.5,1.8]\n",
    "noise_d_range = [0.05,0.10,0.15,0.20,0.25,0.30]\n",
    "noise_r_range = [0.05,0.10,0.15,0.20,0.25,0.30]\n",
    "w_init_range = [0.10,0.15,0.20,0.25,0.30,0.35]\n",
    "\n",
    "search_grid = np.array(np.meshgrid(lr_range, bias_range, gamma_range, noise_d_range, noise_r_range, w_init_range,indexing='xy')).T.reshape(-1, nPara)"
   ]
  },
  {
   "cell_type": "code",
   "execution_count": 6,
   "id": "9df8bb0f",
   "metadata": {},
   "outputs": [
    {
     "name": "stdout",
     "output_type": "stream",
     "text": [
      "0\n"
     ]
    },
    {
     "ename": "KeyboardInterrupt",
     "evalue": "",
     "output_type": "error",
     "traceback": [
      "\u001b[1;31m---------------------------------------------------------------------------\u001b[0m",
      "\u001b[1;31mKeyboardInterrupt\u001b[0m                         Traceback (most recent call last)",
      "Cell \u001b[1;32mIn[6], line 3\u001b[0m\n\u001b[0;32m      1\u001b[0m \u001b[38;5;28;01mfor\u001b[39;00m i \u001b[38;5;129;01min\u001b[39;00m \u001b[38;5;28mrange\u001b[39m(\u001b[38;5;241m11\u001b[39m):\n\u001b[0;32m      2\u001b[0m     para \u001b[38;5;241m=\u001b[39m search_grid[i]\n\u001b[1;32m----> 3\u001b[0m     group_decision \u001b[38;5;241m=\u001b[39m \u001b[43mdecision\u001b[49m\u001b[43m(\u001b[49m\u001b[43macti\u001b[49m\u001b[43m,\u001b[49m\u001b[43m \u001b[49m\u001b[43mnoise_d\u001b[49m\u001b[43m \u001b[49m\u001b[38;5;241;43m*\u001b[39;49m\u001b[43m \u001b[49m\u001b[43mpara\u001b[49m\u001b[43m[\u001b[49m\u001b[38;5;241;43m3\u001b[39;49m\u001b[43m]\u001b[49m\u001b[43m,\u001b[49m\u001b[43m \u001b[49m\u001b[43mnoise_r\u001b[49m\u001b[43m \u001b[49m\u001b[38;5;241;43m*\u001b[39;49m\u001b[43m \u001b[49m\u001b[43mpara\u001b[49m\u001b[43m[\u001b[49m\u001b[38;5;241;43m4\u001b[39;49m\u001b[43m]\u001b[49m\u001b[43m,\u001b[49m\u001b[43m \u001b[49m\u001b[43msign\u001b[49m\u001b[43m,\u001b[49m\u001b[43m \u001b[49m\u001b[43mbias\u001b[49m\u001b[43m,\u001b[49m\u001b[43m \u001b[49m\u001b[43mweight\u001b[49m\u001b[43m \u001b[49m\u001b[38;5;241;43m*\u001b[39;49m\u001b[43m \u001b[49m\u001b[43mpara\u001b[49m\u001b[43m[\u001b[49m\u001b[38;5;241;43m5\u001b[39;49m\u001b[43m]\u001b[49m\u001b[43m \u001b[49m\u001b[43m,\u001b[49m\u001b[43m \u001b[49m\u001b[43mpara\u001b[49m\u001b[43m[\u001b[49m\u001b[38;5;241;43m0\u001b[39;49m\u001b[43m]\u001b[49m\u001b[43m,\u001b[49m\u001b[43m \u001b[49m\u001b[43mpara\u001b[49m\u001b[43m[\u001b[49m\u001b[38;5;241;43m1\u001b[39;49m\u001b[43m]\u001b[49m\u001b[43m,\u001b[49m\u001b[43m \u001b[49m\u001b[43mpara\u001b[49m\u001b[43m[\u001b[49m\u001b[38;5;241;43m2\u001b[39;49m\u001b[43m]\u001b[49m\u001b[43m,\u001b[49m\u001b[43m \u001b[49m\u001b[43ma_max\u001b[49m\u001b[43m,\u001b[49m\u001b[43m \u001b[49m\u001b[43mw_max\u001b[49m\u001b[43m,\u001b[49m\u001b[43m \u001b[49m\u001b[43mw_min\u001b[49m\u001b[43m,\u001b[49m\u001b[43m \u001b[49m\u001b[43mbias_update\u001b[49m\u001b[43m)\u001b[49m\n\u001b[0;32m      4\u001b[0m     prob \u001b[38;5;241m=\u001b[39m (((group_decision\u001b[38;5;241m.\u001b[39msum(axis \u001b[38;5;241m=\u001b[39m \u001b[38;5;241m1\u001b[39m) \u001b[38;5;241m/\u001b[39m nAverage) \u001b[38;5;241m*\u001b[39m sign) \u001b[38;5;241m+\u001b[39m \u001b[38;5;241m1\u001b[39m) \u001b[38;5;241m/\u001b[39m \u001b[38;5;241m2\u001b[39m\n\u001b[0;32m      5\u001b[0m     block_prob \u001b[38;5;241m=\u001b[39m np\u001b[38;5;241m.\u001b[39msum(prob[[li,mi,hi,lc,mc,hc]]\u001b[38;5;241m.\u001b[39mreshape((\u001b[38;5;241m6\u001b[39m,\u001b[38;5;241m32\u001b[39m,\u001b[38;5;241m50\u001b[39m)), axis\u001b[38;5;241m=\u001b[39m\u001b[38;5;241m2\u001b[39m)\u001b[38;5;241m/\u001b[39mtrials_p_block\n",
      "File \u001b[1;32mC:\\ProgramData\\anaconda3\\envs\\pymc_env\\lib\\site-packages\\pytensor\\compile\\function\\types.py:970\u001b[0m, in \u001b[0;36mFunction.__call__\u001b[1;34m(self, *args, **kwargs)\u001b[0m\n\u001b[0;32m    967\u001b[0m t0_fn \u001b[38;5;241m=\u001b[39m time\u001b[38;5;241m.\u001b[39mperf_counter()\n\u001b[0;32m    968\u001b[0m \u001b[38;5;28;01mtry\u001b[39;00m:\n\u001b[0;32m    969\u001b[0m     outputs \u001b[38;5;241m=\u001b[39m (\n\u001b[1;32m--> 970\u001b[0m         \u001b[38;5;28;43mself\u001b[39;49m\u001b[38;5;241;43m.\u001b[39;49m\u001b[43mvm\u001b[49m\u001b[43m(\u001b[49m\u001b[43m)\u001b[49m\n\u001b[0;32m    971\u001b[0m         \u001b[38;5;28;01mif\u001b[39;00m output_subset \u001b[38;5;129;01mis\u001b[39;00m \u001b[38;5;28;01mNone\u001b[39;00m\n\u001b[0;32m    972\u001b[0m         \u001b[38;5;28;01melse\u001b[39;00m \u001b[38;5;28mself\u001b[39m\u001b[38;5;241m.\u001b[39mvm(output_subset\u001b[38;5;241m=\u001b[39moutput_subset)\n\u001b[0;32m    973\u001b[0m     )\n\u001b[0;32m    974\u001b[0m \u001b[38;5;28;01mexcept\u001b[39;00m \u001b[38;5;167;01mException\u001b[39;00m:\n\u001b[0;32m    975\u001b[0m     restore_defaults()\n",
      "File \u001b[1;32mC:\\ProgramData\\anaconda3\\envs\\pymc_env\\lib\\site-packages\\pytensor\\scan\\op.py:1645\u001b[0m, in \u001b[0;36mScan.make_thunk.<locals>.rval\u001b[1;34m(p, i, o, n, allow_gc)\u001b[0m\n\u001b[0;32m   1639\u001b[0m \u001b[38;5;66;03m# default arguments are stored in the closure of `rval`\u001b[39;00m\n\u001b[0;32m   1640\u001b[0m \n\u001b[0;32m   1641\u001b[0m \u001b[38;5;66;03m# Big ugly hack since we can't get the real value of allow_gc\u001b[39;00m\n\u001b[0;32m   1642\u001b[0m \u001b[38;5;66;03m# for the englobing function.\u001b[39;00m\n\u001b[0;32m   1643\u001b[0m allow_gc \u001b[38;5;241m=\u001b[39m config\u001b[38;5;241m.\u001b[39mallow_gc \u001b[38;5;129;01mand\u001b[39;00m \u001b[38;5;129;01mnot\u001b[39;00m \u001b[38;5;28mself\u001b[39m\u001b[38;5;241m.\u001b[39mallow_gc\n\u001b[1;32m-> 1645\u001b[0m \u001b[38;5;28;01mdef\u001b[39;00m \u001b[38;5;21mrval\u001b[39m(\n\u001b[0;32m   1646\u001b[0m     p\u001b[38;5;241m=\u001b[39mp, i\u001b[38;5;241m=\u001b[39mnode_input_storage, o\u001b[38;5;241m=\u001b[39mnode_output_storage, n\u001b[38;5;241m=\u001b[39mnode, allow_gc\u001b[38;5;241m=\u001b[39mallow_gc\n\u001b[0;32m   1647\u001b[0m ):\n\u001b[0;32m   1648\u001b[0m     r \u001b[38;5;241m=\u001b[39m p(n, [x[\u001b[38;5;241m0\u001b[39m] \u001b[38;5;28;01mfor\u001b[39;00m x \u001b[38;5;129;01min\u001b[39;00m i], o)\n\u001b[0;32m   1649\u001b[0m     \u001b[38;5;28;01mfor\u001b[39;00m o \u001b[38;5;129;01min\u001b[39;00m node\u001b[38;5;241m.\u001b[39moutputs:\n",
      "\u001b[1;31mKeyboardInterrupt\u001b[0m: "
     ]
    }
   ],
   "source": [
    "for i in range(11):\n",
    "    para = search_grid[i]\n",
    "    group_decision = decision(acti, noise_d * para[3], noise_r * para[4], sign, bias, weight * para[5] , para[0], para[1], para[2], a_max, w_max, w_min, bias_update)\n",
    "    prob = (((group_decision.sum(axis = 1) / nAverage) * sign) + 1) / 2\n",
    "    block_prob = np.sum(prob[[li,mi,hi,lc,mc,hc]].reshape((6,32,50)), axis=2)/trials_p_block\n",
    "    print(i)"
   ]
  },
  {
   "cell_type": "code",
   "execution_count": 16,
   "id": "244697b5",
   "metadata": {},
   "outputs": [],
   "source": [
    "iSubject = 0\n",
    "df = pd.read_csv('Data_withfeedback.csv')[iSubject * nTrials : (iSubject + 1) * nTrials]\n",
    "correct = df['Correct'].values\n",
    "contrast = df['Contrast'].values\n",
    "congruent = df['Congruent'].values\n",
    "\n",
    "li = np.intersect1d(np.where(contrast==0.10),np.where(congruent==0))\n",
    "mi = np.intersect1d(np.where(contrast==0.15),np.where(congruent==0))\n",
    "hi = np.intersect1d(np.where(contrast==0.23),np.where(congruent==0))\n",
    "lc = np.intersect1d(np.where(contrast==0.10),np.where(congruent==1))\n",
    "mc = np.intersect1d(np.where(contrast==0.15),np.where(congruent==1))\n",
    "hc = np.intersect1d(np.where(contrast==0.23),np.where(congruent==1))\n",
    "\n",
    "learning_curve = correct[np.stack([li, mi, hi, lc, mc, hc])].reshape(nConditions,nBlocks,trials_p_block).sum(axis=2)"
   ]
  }
 ],
 "metadata": {
  "kernelspec": {
   "display_name": "Python [conda env:pymc_env]",
   "language": "python",
   "name": "conda-env-pymc_env-py"
  },
  "language_info": {
   "codemirror_mode": {
    "name": "ipython",
    "version": 3
   },
   "file_extension": ".py",
   "mimetype": "text/x-python",
   "name": "python",
   "nbconvert_exporter": "python",
   "pygments_lexer": "ipython3",
   "version": "3.8.17"
  }
 },
 "nbformat": 4,
 "nbformat_minor": 5
}
